{
 "cells": [
  {
   "cell_type": "code",
   "execution_count": 1,
   "id": "15f02ef6",
   "metadata": {
    "_cell_guid": "b1076dfc-b9ad-4769-8c92-a6c4dae69d19",
    "_uuid": "8f2839f25d086af736a60e9eeb907d3b93b6e0e5",
    "execution": {
     "iopub.execute_input": "2022-04-11T11:26:24.243853Z",
     "iopub.status.busy": "2022-04-11T11:26:24.242714Z",
     "iopub.status.idle": "2022-04-11T11:26:24.251617Z",
     "shell.execute_reply": "2022-04-11T11:26:24.252141Z",
     "shell.execute_reply.started": "2022-03-14T04:08:21.845052Z"
    },
    "papermill": {
     "duration": 0.032816,
     "end_time": "2022-04-11T11:26:24.252447",
     "exception": false,
     "start_time": "2022-04-11T11:26:24.219631",
     "status": "completed"
    },
    "tags": []
   },
   "outputs": [],
   "source": [
    "import os\n",
    "import numpy as np\n",
    "import pandas as pd\n",
    "import gc"
   ]
  },
  {
   "cell_type": "code",
   "execution_count": 2,
   "id": "364fe65c",
   "metadata": {
    "execution": {
     "iopub.execute_input": "2022-04-11T11:26:24.295099Z",
     "iopub.status.busy": "2022-04-11T11:26:24.294391Z",
     "iopub.status.idle": "2022-04-11T11:26:25.054362Z",
     "shell.execute_reply": "2022-04-11T11:26:25.053769Z",
     "shell.execute_reply.started": "2022-03-14T04:08:21.850917Z"
    },
    "papermill": {
     "duration": 0.783431,
     "end_time": "2022-04-11T11:26:25.054519",
     "exception": false,
     "start_time": "2022-04-11T11:26:24.271088",
     "status": "completed"
    },
    "tags": []
   },
   "outputs": [
    {
     "name": "stdout",
     "output_type": "stream",
     "text": [
      "0-0226-byfone-chris-combination-approach.csv\r\n",
      "h-m-trending-products-weekly-add-test.csv\r\n",
      "hnm-exponential-decay-with-alternate-items.csv\r\n"
     ]
    }
   ],
   "source": [
    "!ls ../input/hm-public-submissions"
   ]
  },
  {
   "cell_type": "markdown",
   "id": "bb57c321",
   "metadata": {
    "papermill": {
     "duration": 0.018113,
     "end_time": "2022-04-11T11:26:25.091356",
     "exception": false,
     "start_time": "2022-04-11T11:26:25.073243",
     "status": "completed"
    },
    "tags": []
   },
   "source": [
    "# **Adding LSTM models to the ensemble**"
   ]
  },
  {
   "cell_type": "markdown",
   "id": "63ea6e50",
   "metadata": {
    "papermill": {
     "duration": 0.01778,
     "end_time": "2022-04-11T11:26:25.127397",
     "exception": false,
     "start_time": "2022-04-11T11:26:25.109617",
     "status": "completed"
    },
    "tags": []
   },
   "source": [
    "# Note\n",
    "* I am not sure whether I should get any credit for this notebook as this is based(mostly) on the work of others.\n",
    "* I added two more submissions to the ensemble and tried a few options with them."
   ]
  },
  {
   "cell_type": "markdown",
   "id": "71039f5d",
   "metadata": {
    "papermill": {
     "duration": 0.017721,
     "end_time": "2022-04-11T11:26:25.163675",
     "exception": false,
     "start_time": "2022-04-11T11:26:25.145954",
     "status": "completed"
    },
    "tags": []
   },
   "source": [
    "# New Notebooks\n",
    "* LB: 0.0210 - https://www.kaggle.com/astrung/recbole-lstm-sequential-for-recomendation-tutorial\n",
    "* LB: 0.0221 - https://www.kaggle.com/astrung/lstm-sequential-modelwith-item-features-tutorial\n",
    "* both notebooks by @astrung"
   ]
  },
  {
   "cell_type": "markdown",
   "id": "bcbbaf80",
   "metadata": {
    "papermill": {
     "duration": 0.018224,
     "end_time": "2022-04-11T11:26:25.200311",
     "exception": false,
     "start_time": "2022-04-11T11:26:25.182087",
     "status": "completed"
    },
    "tags": []
   },
   "source": [
    "# Predictions in this competition are a list of 12 itens ordered by most relevant first.\n",
    "# In this notebook I will show how to ensemble lists of different models\n",
    "# To ensemble I used submissions from 3 public notebooks:\n",
    "- LB: 0.0225 - https://www.kaggle.com/lichtlab/0-0226-byfone-chris-combination-approach/data?scriptVersionId=89289696\n",
    "- LB: 0.0225 - https://www.kaggle.com/lunapandachan/h-m-trending-products-weekly-add-test/notebook\n",
    "- LB: 0.0217 - https://www.kaggle.com/tarique7/hnm-exponential-decay-with-alternate-items/notebook"
   ]
  },
  {
   "cell_type": "code",
   "execution_count": 3,
   "id": "1c556982",
   "metadata": {
    "execution": {
     "iopub.execute_input": "2022-04-11T11:26:25.244158Z",
     "iopub.status.busy": "2022-04-11T11:26:25.243387Z",
     "iopub.status.idle": "2022-04-11T11:26:49.840364Z",
     "shell.execute_reply": "2022-04-11T11:26:49.840892Z",
     "shell.execute_reply.started": "2022-03-14T04:08:22.171806Z"
    },
    "papermill": {
     "duration": 24.622936,
     "end_time": "2022-04-11T11:26:49.841110",
     "exception": false,
     "start_time": "2022-04-11T11:26:25.218174",
     "status": "completed"
    },
    "tags": []
   },
   "outputs": [
    {
     "data": {
      "text/plain": [
       "((1371980, 2), (1371980, 2), (1371980, 2))"
      ]
     },
     "execution_count": 3,
     "metadata": {},
     "output_type": "execute_result"
    }
   ],
   "source": [
    "sub0 = pd.read_csv('../input/hm-public-submissions/0-0226-byfone-chris-combination-approach.csv').sort_values('customer_id').reset_index(drop=True)\n",
    "sub1 = pd.read_csv('../input/hm-public-submissions/h-m-trending-products-weekly-add-test.csv').sort_values('customer_id').reset_index(drop=True)\n",
    "sub2 = pd.read_csv('../input/hm-public-submissions/hnm-exponential-decay-with-alternate-items.csv').sort_values('customer_id').reset_index(drop=True)\n",
    "\n",
    "sub0.shape, sub1.shape, sub2.shape"
   ]
  },
  {
   "cell_type": "code",
   "execution_count": 4,
   "id": "d8e568ba",
   "metadata": {
    "execution": {
     "iopub.execute_input": "2022-04-11T11:26:49.883903Z",
     "iopub.status.busy": "2022-04-11T11:26:49.881687Z",
     "iopub.status.idle": "2022-04-11T11:26:58.489371Z",
     "shell.execute_reply": "2022-04-11T11:26:58.489852Z",
     "shell.execute_reply.started": "2022-03-14T04:08:44.793768Z"
    },
    "papermill": {
     "duration": 8.630187,
     "end_time": "2022-04-11T11:26:58.490053",
     "exception": false,
     "start_time": "2022-04-11T11:26:49.859866",
     "status": "completed"
    },
    "tags": []
   },
   "outputs": [],
   "source": [
    "sub3 = pd.read_csv('../input/submission-recbole-lstm/submission.csv').sort_values('customer_id').reset_index(drop=True)"
   ]
  },
  {
   "cell_type": "code",
   "execution_count": 5,
   "id": "c372c531",
   "metadata": {
    "execution": {
     "iopub.execute_input": "2022-04-11T11:26:58.530884Z",
     "iopub.status.busy": "2022-04-11T11:26:58.529958Z",
     "iopub.status.idle": "2022-04-11T11:27:07.044790Z",
     "shell.execute_reply": "2022-04-11T11:27:07.044258Z",
     "shell.execute_reply.started": "2022-03-14T04:08:51.932003Z"
    },
    "papermill": {
     "duration": 8.536302,
     "end_time": "2022-04-11T11:27:07.044954",
     "exception": false,
     "start_time": "2022-04-11T11:26:58.508652",
     "status": "completed"
    },
    "tags": []
   },
   "outputs": [],
   "source": [
    "sub4 = pd.read_csv('../input/submission-lstm-sequential/submission (1).csv').sort_values('customer_id').reset_index(drop=True)"
   ]
  },
  {
   "cell_type": "code",
   "execution_count": 6,
   "id": "debe368e",
   "metadata": {
    "execution": {
     "iopub.execute_input": "2022-04-11T11:27:07.435504Z",
     "iopub.status.busy": "2022-04-11T11:27:07.088374Z",
     "iopub.status.idle": "2022-04-11T11:27:08.083041Z",
     "shell.execute_reply": "2022-04-11T11:27:08.082303Z",
     "shell.execute_reply.started": "2022-03-14T04:08:59.073553Z"
    },
    "papermill": {
     "duration": 1.019735,
     "end_time": "2022-04-11T11:27:08.083225",
     "exception": false,
     "start_time": "2022-04-11T11:27:07.063490",
     "status": "completed"
    },
    "tags": []
   },
   "outputs": [
    {
     "name": "stdout",
     "output_type": "stream",
     "text": [
      "0.4324239420399714\n",
      "0.0005991340981646963\n",
      "0.0005991340981646963\n"
     ]
    }
   ],
   "source": [
    "# How many predictions are in common between models\n",
    "\n",
    "print((sub0['prediction']==sub1['prediction']).mean())\n",
    "print((sub0['prediction']==sub2['prediction']).mean())\n",
    "print((sub1['prediction']==sub2['prediction']).mean())"
   ]
  },
  {
   "cell_type": "code",
   "execution_count": 7,
   "id": "ffd824ae",
   "metadata": {
    "execution": {
     "iopub.execute_input": "2022-04-11T11:27:08.458695Z",
     "iopub.status.busy": "2022-04-11T11:27:08.457972Z",
     "iopub.status.idle": "2022-04-11T11:27:09.120677Z",
     "shell.execute_reply": "2022-04-11T11:27:09.120104Z",
     "shell.execute_reply.started": "2022-03-14T04:08:59.972672Z"
    },
    "papermill": {
     "duration": 1.017985,
     "end_time": "2022-04-11T11:27:09.120830",
     "exception": false,
     "start_time": "2022-04-11T11:27:08.102845",
     "status": "completed"
    },
    "tags": []
   },
   "outputs": [
    {
     "name": "stdout",
     "output_type": "stream",
     "text": [
      "0.0065190454671350895\n",
      "0.006790915319465299\n",
      "0.00031268677385967725\n"
     ]
    }
   ],
   "source": [
    "# How many predictions are in common between old models and new \n",
    "\n",
    "print((sub3['prediction']==sub0['prediction']).mean())\n",
    "print((sub3['prediction']==sub1['prediction']).mean())\n",
    "print((sub3['prediction']==sub2['prediction']).mean())"
   ]
  },
  {
   "cell_type": "code",
   "execution_count": 8,
   "id": "00609b34",
   "metadata": {
    "execution": {
     "iopub.execute_input": "2022-04-11T11:27:09.165985Z",
     "iopub.status.busy": "2022-04-11T11:27:09.165295Z",
     "iopub.status.idle": "2022-04-11T11:27:10.497531Z",
     "shell.execute_reply": "2022-04-11T11:27:10.496950Z",
     "shell.execute_reply.started": "2022-03-14T04:09:00.853269Z"
    },
    "papermill": {
     "duration": 1.35672,
     "end_time": "2022-04-11T11:27:10.497678",
     "exception": false,
     "start_time": "2022-04-11T11:27:09.140958",
     "status": "completed"
    },
    "tags": []
   },
   "outputs": [
    {
     "name": "stdout",
     "output_type": "stream",
     "text": [
      "0.007623288969226956\n",
      "0.007895158821557165\n",
      "0.00043878190644178487\n",
      "0.9716358839050132\n"
     ]
    }
   ],
   "source": [
    "# How many predictions are in common between old models and new\n",
    "\n",
    "print((sub4['prediction']==sub0['prediction']).mean())\n",
    "print((sub4['prediction']==sub1['prediction']).mean())\n",
    "print((sub4['prediction']==sub2['prediction']).mean())\n",
    "print((sub4['prediction']==sub3['prediction']).mean())"
   ]
  },
  {
   "cell_type": "code",
   "execution_count": 9,
   "id": "1439045a",
   "metadata": {
    "execution": {
     "iopub.execute_input": "2022-04-11T11:27:10.566300Z",
     "iopub.status.busy": "2022-04-11T11:27:10.565289Z",
     "iopub.status.idle": "2022-04-11T11:27:10.992851Z",
     "shell.execute_reply": "2022-04-11T11:27:10.992307Z",
     "shell.execute_reply.started": "2022-03-14T04:09:02.044956Z"
    },
    "papermill": {
     "duration": 0.474617,
     "end_time": "2022-04-11T11:27:10.993018",
     "exception": false,
     "start_time": "2022-04-11T11:27:10.518401",
     "status": "completed"
    },
    "tags": []
   },
   "outputs": [
    {
     "data": {
      "text/html": [
       "<div>\n",
       "<style scoped>\n",
       "    .dataframe tbody tr th:only-of-type {\n",
       "        vertical-align: middle;\n",
       "    }\n",
       "\n",
       "    .dataframe tbody tr th {\n",
       "        vertical-align: top;\n",
       "    }\n",
       "\n",
       "    .dataframe thead th {\n",
       "        text-align: right;\n",
       "    }\n",
       "</style>\n",
       "<table border=\"1\" class=\"dataframe\">\n",
       "  <thead>\n",
       "    <tr style=\"text-align: right;\">\n",
       "      <th></th>\n",
       "      <th>customer_id</th>\n",
       "      <th>prediction0</th>\n",
       "      <th>prediction1</th>\n",
       "      <th>prediction2</th>\n",
       "      <th>prediction3</th>\n",
       "      <th>prediction4</th>\n",
       "    </tr>\n",
       "  </thead>\n",
       "  <tbody>\n",
       "    <tr>\n",
       "      <th>0</th>\n",
       "      <td>00000dbacae5abe5e23885899a1fa44253a17956c6d1c3...</td>\n",
       "      <td>0568601043 0568601006 0656719005 0745232001 07...</td>\n",
       "      <td>0568601043 0568601006 0656719005 0745232001 07...</td>\n",
       "      <td>0568601043 0924243001 0924243002 0918522001 07...</td>\n",
       "      <td>0568601043 0568601006 0656719005 0745232001 09...</td>\n",
       "      <td>0568601043 0568601006 0656719005 0745232001 09...</td>\n",
       "    </tr>\n",
       "    <tr>\n",
       "      <th>1</th>\n",
       "      <td>0000423b00ade91418cceaf3b26c6af3dd342b51fd051e...</td>\n",
       "      <td>0826211002 0800436010 0739590027 0723529001 08...</td>\n",
       "      <td>0826211002 0800436010 0739590027 0723529001 08...</td>\n",
       "      <td>0924243001 0924243002 0918522001 0751471001 04...</td>\n",
       "      <td>0826211002 0800436010 0924243001 0739590027 07...</td>\n",
       "      <td>0826211002 0800436010 0924243001 0739590027 07...</td>\n",
       "    </tr>\n",
       "    <tr>\n",
       "      <th>2</th>\n",
       "      <td>000058a12d5b43e67d225668fa1f8d618c13dc232df0ca...</td>\n",
       "      <td>0794321007 0852643001 0852643003 0858883002 07...</td>\n",
       "      <td>0794321007 0852643001 0852643003 0858883002 07...</td>\n",
       "      <td>0794321007 0924243001 0924243002 0918522001 07...</td>\n",
       "      <td>0794321007 0852643001 0852643003 0858883002 09...</td>\n",
       "      <td>0794321007 0852643001 0852643003 0858883002 09...</td>\n",
       "    </tr>\n",
       "    <tr>\n",
       "      <th>3</th>\n",
       "      <td>00005ca1c9ed5f5146b52ac8639a40ca9d57aeff4d1bd2...</td>\n",
       "      <td>0448509014 0573085028 0751471001 0706016001 06...</td>\n",
       "      <td>0448509014 0573085028 0751471001 0706016001 06...</td>\n",
       "      <td>0924243001 0924243002 0918522001 0751471001 04...</td>\n",
       "      <td>0448509014 0573085028 0924243001 0751471001 07...</td>\n",
       "      <td>0448509014 0573085028 0924243001 0751471001 07...</td>\n",
       "    </tr>\n",
       "    <tr>\n",
       "      <th>4</th>\n",
       "      <td>00006413d8573cd20ed7128e53b7b13819fe5cfc2d801f...</td>\n",
       "      <td>0730683050 0791587015 0896152002 0818320001 09...</td>\n",
       "      <td>0730683050 0791587015 0896152002 0818320001 09...</td>\n",
       "      <td>0924243001 0924243002 0918522001 0751471001 04...</td>\n",
       "      <td>0730683050 0791587015 0924243001 0896152002 08...</td>\n",
       "      <td>0730683050 0791587015 0924243001 0896152002 08...</td>\n",
       "    </tr>\n",
       "  </tbody>\n",
       "</table>\n",
       "</div>"
      ],
      "text/plain": [
       "                                         customer_id  \\\n",
       "0  00000dbacae5abe5e23885899a1fa44253a17956c6d1c3...   \n",
       "1  0000423b00ade91418cceaf3b26c6af3dd342b51fd051e...   \n",
       "2  000058a12d5b43e67d225668fa1f8d618c13dc232df0ca...   \n",
       "3  00005ca1c9ed5f5146b52ac8639a40ca9d57aeff4d1bd2...   \n",
       "4  00006413d8573cd20ed7128e53b7b13819fe5cfc2d801f...   \n",
       "\n",
       "                                         prediction0  \\\n",
       "0  0568601043 0568601006 0656719005 0745232001 07...   \n",
       "1  0826211002 0800436010 0739590027 0723529001 08...   \n",
       "2  0794321007 0852643001 0852643003 0858883002 07...   \n",
       "3  0448509014 0573085028 0751471001 0706016001 06...   \n",
       "4  0730683050 0791587015 0896152002 0818320001 09...   \n",
       "\n",
       "                                         prediction1  \\\n",
       "0  0568601043 0568601006 0656719005 0745232001 07...   \n",
       "1  0826211002 0800436010 0739590027 0723529001 08...   \n",
       "2  0794321007 0852643001 0852643003 0858883002 07...   \n",
       "3  0448509014 0573085028 0751471001 0706016001 06...   \n",
       "4  0730683050 0791587015 0896152002 0818320001 09...   \n",
       "\n",
       "                                         prediction2  \\\n",
       "0  0568601043 0924243001 0924243002 0918522001 07...   \n",
       "1  0924243001 0924243002 0918522001 0751471001 04...   \n",
       "2  0794321007 0924243001 0924243002 0918522001 07...   \n",
       "3  0924243001 0924243002 0918522001 0751471001 04...   \n",
       "4  0924243001 0924243002 0918522001 0751471001 04...   \n",
       "\n",
       "                                         prediction3  \\\n",
       "0  0568601043 0568601006 0656719005 0745232001 09...   \n",
       "1  0826211002 0800436010 0924243001 0739590027 07...   \n",
       "2  0794321007 0852643001 0852643003 0858883002 09...   \n",
       "3  0448509014 0573085028 0924243001 0751471001 07...   \n",
       "4  0730683050 0791587015 0924243001 0896152002 08...   \n",
       "\n",
       "                                         prediction4  \n",
       "0  0568601043 0568601006 0656719005 0745232001 09...  \n",
       "1  0826211002 0800436010 0924243001 0739590027 07...  \n",
       "2  0794321007 0852643001 0852643003 0858883002 09...  \n",
       "3  0448509014 0573085028 0924243001 0751471001 07...  \n",
       "4  0730683050 0791587015 0924243001 0896152002 08...  "
      ]
     },
     "execution_count": 9,
     "metadata": {},
     "output_type": "execute_result"
    }
   ],
   "source": [
    "sub0.columns = ['customer_id', 'prediction0']\n",
    "sub0['prediction1'] = sub1['prediction']\n",
    "sub0['prediction2'] = sub2['prediction']\n",
    "sub0['prediction3'] = sub3['prediction']\n",
    "sub0['prediction4'] = sub4['prediction']\n",
    "del sub1, sub2, sub3, sub4\n",
    "gc.collect()\n",
    "sub0.head()"
   ]
  },
  {
   "cell_type": "code",
   "execution_count": 10,
   "id": "4fb8d191",
   "metadata": {
    "execution": {
     "iopub.execute_input": "2022-04-11T11:27:11.048682Z",
     "iopub.status.busy": "2022-04-11T11:27:11.047599Z",
     "iopub.status.idle": "2022-04-11T11:27:11.050370Z",
     "shell.execute_reply": "2022-04-11T11:27:11.049750Z",
     "shell.execute_reply.started": "2022-03-14T04:09:02.382214Z"
    },
    "papermill": {
     "duration": 0.035943,
     "end_time": "2022-04-11T11:27:11.050506",
     "exception": false,
     "start_time": "2022-04-11T11:27:11.014563",
     "status": "completed"
    },
    "tags": []
   },
   "outputs": [],
   "source": [
    "def cust_blend(dt, W = [1,1,1,1]):\n",
    "    #Global ensemble weights\n",
    "    #W = [1.15,0.95,0.85]\n",
    "    \n",
    "    #Create a list of all model predictions\n",
    "    REC = []\n",
    "    \n",
    "    # Second Try\n",
    "    REC.append(dt['prediction0'].split())\n",
    "    REC.append(dt['prediction1'].split())\n",
    "    REC.append(dt['prediction2'].split())\n",
    "    REC.append(dt['prediction3'].split())\n",
    "    \n",
    "    #Create a dictionary of items recommended. \n",
    "    #Assign a weight according the order of appearance and multiply by global weights\n",
    "    res = {}\n",
    "    for M in range(len(REC)):\n",
    "        for n, v in enumerate(REC[M]):\n",
    "            if v in res:\n",
    "                res[v] += (W[M]/(n+1))\n",
    "            else:\n",
    "                res[v] = (W[M]/(n+1))\n",
    "    \n",
    "    # Sort dictionary by item weights\n",
    "    res = list(dict(sorted(res.items(), key=lambda item: -item[1])).keys())\n",
    "    \n",
    "    # Return the top 12 itens only\n",
    "    return ' '.join(res[:12])"
   ]
  },
  {
   "cell_type": "code",
   "execution_count": 11,
   "id": "a1b899f3",
   "metadata": {
    "execution": {
     "iopub.execute_input": "2022-04-11T11:27:11.097530Z",
     "iopub.status.busy": "2022-04-11T11:27:11.096546Z",
     "iopub.status.idle": "2022-04-11T11:28:36.471184Z",
     "shell.execute_reply": "2022-04-11T11:28:36.471695Z",
     "shell.execute_reply.started": "2022-03-14T04:09:02.394455Z"
    },
    "papermill": {
     "duration": 85.39973,
     "end_time": "2022-04-11T11:28:36.471875",
     "exception": false,
     "start_time": "2022-04-11T11:27:11.072145",
     "status": "completed"
    },
    "tags": []
   },
   "outputs": [
    {
     "data": {
      "text/html": [
       "<div>\n",
       "<style scoped>\n",
       "    .dataframe tbody tr th:only-of-type {\n",
       "        vertical-align: middle;\n",
       "    }\n",
       "\n",
       "    .dataframe tbody tr th {\n",
       "        vertical-align: top;\n",
       "    }\n",
       "\n",
       "    .dataframe thead th {\n",
       "        text-align: right;\n",
       "    }\n",
       "</style>\n",
       "<table border=\"1\" class=\"dataframe\">\n",
       "  <thead>\n",
       "    <tr style=\"text-align: right;\">\n",
       "      <th></th>\n",
       "      <th>customer_id</th>\n",
       "      <th>prediction0</th>\n",
       "      <th>prediction1</th>\n",
       "      <th>prediction2</th>\n",
       "      <th>prediction3</th>\n",
       "      <th>prediction4</th>\n",
       "      <th>prediction</th>\n",
       "    </tr>\n",
       "  </thead>\n",
       "  <tbody>\n",
       "    <tr>\n",
       "      <th>0</th>\n",
       "      <td>00000dbacae5abe5e23885899a1fa44253a17956c6d1c3...</td>\n",
       "      <td>0568601043 0568601006 0656719005 0745232001 07...</td>\n",
       "      <td>0568601043 0568601006 0656719005 0745232001 07...</td>\n",
       "      <td>0568601043 0924243001 0924243002 0918522001 07...</td>\n",
       "      <td>0568601043 0568601006 0656719005 0745232001 09...</td>\n",
       "      <td>0568601043 0568601006 0656719005 0745232001 09...</td>\n",
       "      <td>0568601043 0568601006 0656719005 0745232001 09...</td>\n",
       "    </tr>\n",
       "    <tr>\n",
       "      <th>1</th>\n",
       "      <td>0000423b00ade91418cceaf3b26c6af3dd342b51fd051e...</td>\n",
       "      <td>0826211002 0800436010 0739590027 0723529001 08...</td>\n",
       "      <td>0826211002 0800436010 0739590027 0723529001 08...</td>\n",
       "      <td>0924243001 0924243002 0918522001 0751471001 04...</td>\n",
       "      <td>0826211002 0800436010 0924243001 0739590027 07...</td>\n",
       "      <td>0826211002 0800436010 0924243001 0739590027 07...</td>\n",
       "      <td>0826211002 0800436010 0924243001 0739590027 07...</td>\n",
       "    </tr>\n",
       "    <tr>\n",
       "      <th>2</th>\n",
       "      <td>000058a12d5b43e67d225668fa1f8d618c13dc232df0ca...</td>\n",
       "      <td>0794321007 0852643001 0852643003 0858883002 07...</td>\n",
       "      <td>0794321007 0852643001 0852643003 0858883002 07...</td>\n",
       "      <td>0794321007 0924243001 0924243002 0918522001 07...</td>\n",
       "      <td>0794321007 0852643001 0852643003 0858883002 09...</td>\n",
       "      <td>0794321007 0852643001 0852643003 0858883002 09...</td>\n",
       "      <td>0794321007 0852643001 0852643003 0858883002 09...</td>\n",
       "    </tr>\n",
       "    <tr>\n",
       "      <th>3</th>\n",
       "      <td>00005ca1c9ed5f5146b52ac8639a40ca9d57aeff4d1bd2...</td>\n",
       "      <td>0448509014 0573085028 0751471001 0706016001 06...</td>\n",
       "      <td>0448509014 0573085028 0751471001 0706016001 06...</td>\n",
       "      <td>0924243001 0924243002 0918522001 0751471001 04...</td>\n",
       "      <td>0448509014 0573085028 0924243001 0751471001 07...</td>\n",
       "      <td>0448509014 0573085028 0924243001 0751471001 07...</td>\n",
       "      <td>0448509014 0573085028 0924243001 0751471001 07...</td>\n",
       "    </tr>\n",
       "    <tr>\n",
       "      <th>4</th>\n",
       "      <td>00006413d8573cd20ed7128e53b7b13819fe5cfc2d801f...</td>\n",
       "      <td>0730683050 0791587015 0896152002 0818320001 09...</td>\n",
       "      <td>0730683050 0791587015 0896152002 0818320001 09...</td>\n",
       "      <td>0924243001 0924243002 0918522001 0751471001 04...</td>\n",
       "      <td>0730683050 0791587015 0924243001 0896152002 08...</td>\n",
       "      <td>0730683050 0791587015 0924243001 0896152002 08...</td>\n",
       "      <td>0730683050 0791587015 0924243001 0896152002 08...</td>\n",
       "    </tr>\n",
       "  </tbody>\n",
       "</table>\n",
       "</div>"
      ],
      "text/plain": [
       "                                         customer_id  \\\n",
       "0  00000dbacae5abe5e23885899a1fa44253a17956c6d1c3...   \n",
       "1  0000423b00ade91418cceaf3b26c6af3dd342b51fd051e...   \n",
       "2  000058a12d5b43e67d225668fa1f8d618c13dc232df0ca...   \n",
       "3  00005ca1c9ed5f5146b52ac8639a40ca9d57aeff4d1bd2...   \n",
       "4  00006413d8573cd20ed7128e53b7b13819fe5cfc2d801f...   \n",
       "\n",
       "                                         prediction0  \\\n",
       "0  0568601043 0568601006 0656719005 0745232001 07...   \n",
       "1  0826211002 0800436010 0739590027 0723529001 08...   \n",
       "2  0794321007 0852643001 0852643003 0858883002 07...   \n",
       "3  0448509014 0573085028 0751471001 0706016001 06...   \n",
       "4  0730683050 0791587015 0896152002 0818320001 09...   \n",
       "\n",
       "                                         prediction1  \\\n",
       "0  0568601043 0568601006 0656719005 0745232001 07...   \n",
       "1  0826211002 0800436010 0739590027 0723529001 08...   \n",
       "2  0794321007 0852643001 0852643003 0858883002 07...   \n",
       "3  0448509014 0573085028 0751471001 0706016001 06...   \n",
       "4  0730683050 0791587015 0896152002 0818320001 09...   \n",
       "\n",
       "                                         prediction2  \\\n",
       "0  0568601043 0924243001 0924243002 0918522001 07...   \n",
       "1  0924243001 0924243002 0918522001 0751471001 04...   \n",
       "2  0794321007 0924243001 0924243002 0918522001 07...   \n",
       "3  0924243001 0924243002 0918522001 0751471001 04...   \n",
       "4  0924243001 0924243002 0918522001 0751471001 04...   \n",
       "\n",
       "                                         prediction3  \\\n",
       "0  0568601043 0568601006 0656719005 0745232001 09...   \n",
       "1  0826211002 0800436010 0924243001 0739590027 07...   \n",
       "2  0794321007 0852643001 0852643003 0858883002 09...   \n",
       "3  0448509014 0573085028 0924243001 0751471001 07...   \n",
       "4  0730683050 0791587015 0924243001 0896152002 08...   \n",
       "\n",
       "                                         prediction4  \\\n",
       "0  0568601043 0568601006 0656719005 0745232001 09...   \n",
       "1  0826211002 0800436010 0924243001 0739590027 07...   \n",
       "2  0794321007 0852643001 0852643003 0858883002 09...   \n",
       "3  0448509014 0573085028 0924243001 0751471001 07...   \n",
       "4  0730683050 0791587015 0924243001 0896152002 08...   \n",
       "\n",
       "                                          prediction  \n",
       "0  0568601043 0568601006 0656719005 0745232001 09...  \n",
       "1  0826211002 0800436010 0924243001 0739590027 07...  \n",
       "2  0794321007 0852643001 0852643003 0858883002 09...  \n",
       "3  0448509014 0573085028 0924243001 0751471001 07...  \n",
       "4  0730683050 0791587015 0924243001 0896152002 08...  "
      ]
     },
     "execution_count": 11,
     "metadata": {},
     "output_type": "execute_result"
    }
   ],
   "source": [
    "sub0['prediction'] = sub0.apply(cust_blend, W = [1.05,1.00,0.95,0.85], axis=1)\n",
    "sub0.head()"
   ]
  },
  {
   "cell_type": "code",
   "execution_count": 12,
   "id": "57a6ebbd",
   "metadata": {
    "execution": {
     "iopub.execute_input": "2022-04-11T11:28:36.847097Z",
     "iopub.status.busy": "2022-04-11T11:28:36.846379Z",
     "iopub.status.idle": "2022-04-11T11:28:38.148835Z",
     "shell.execute_reply": "2022-04-11T11:28:38.148330Z",
     "shell.execute_reply.started": "2022-03-14T04:10:08.62722Z"
    },
    "papermill": {
     "duration": 1.654952,
     "end_time": "2022-04-11T11:28:38.149007",
     "exception": false,
     "start_time": "2022-04-11T11:28:36.494055",
     "status": "completed"
    },
    "tags": []
   },
   "outputs": [
    {
     "name": "stdout",
     "output_type": "stream",
     "text": [
      "0.006508841236752722\n",
      "0.006780711089082931\n",
      "0.0003163311418533798\n",
      "0.9707145876762052\n",
      "0.9707175031706001\n"
     ]
    }
   ],
   "source": [
    "# How many predictions are in common with ensemble\n",
    "\n",
    "print((sub0['prediction']==sub0['prediction0']).mean())\n",
    "print((sub0['prediction']==sub0['prediction1']).mean())\n",
    "print((sub0['prediction']==sub0['prediction2']).mean())\n",
    "print((sub0['prediction']==sub0['prediction3']).mean())\n",
    "print((sub0['prediction']==sub0['prediction4']).mean())"
   ]
  },
  {
   "cell_type": "markdown",
   "id": "4d188eab",
   "metadata": {
    "papermill": {
     "duration": 0.022823,
     "end_time": "2022-04-11T11:28:38.194976",
     "exception": false,
     "start_time": "2022-04-11T11:28:38.172153",
     "status": "completed"
    },
    "tags": []
   },
   "source": [
    "**The results of comparison seem interesting**"
   ]
  },
  {
   "cell_type": "markdown",
   "id": "2c1f4d6a",
   "metadata": {
    "papermill": {
     "duration": 0.02281,
     "end_time": "2022-04-11T11:28:38.240943",
     "exception": false,
     "start_time": "2022-04-11T11:28:38.218133",
     "status": "completed"
    },
    "tags": []
   },
   "source": [
    "# Make a submission"
   ]
  },
  {
   "cell_type": "code",
   "execution_count": 13,
   "id": "b9fcefff",
   "metadata": {
    "execution": {
     "iopub.execute_input": "2022-04-11T11:28:38.394208Z",
     "iopub.status.busy": "2022-04-11T11:28:38.393497Z",
     "iopub.status.idle": "2022-04-11T11:28:51.194400Z",
     "shell.execute_reply": "2022-04-11T11:28:51.193733Z",
     "shell.execute_reply.started": "2022-03-14T04:10:09.263615Z"
    },
    "papermill": {
     "duration": 12.929169,
     "end_time": "2022-04-11T11:28:51.194544",
     "exception": false,
     "start_time": "2022-04-11T11:28:38.265375",
     "status": "completed"
    },
    "tags": []
   },
   "outputs": [],
   "source": [
    "del sub0['prediction0']\n",
    "del sub0['prediction1']\n",
    "del sub0['prediction2']\n",
    "del sub0['prediction3']\n",
    "del sub0['prediction4']\n",
    "gc.collect()\n",
    "sub0.to_csv('submission.csv', index=False)"
   ]
  }
 ],
 "metadata": {
  "kernelspec": {
   "display_name": "Python 3",
   "language": "python",
   "name": "python3"
  },
  "language_info": {
   "codemirror_mode": {
    "name": "ipython",
    "version": 3
   },
   "file_extension": ".py",
   "mimetype": "text/x-python",
   "name": "python",
   "nbconvert_exporter": "python",
   "pygments_lexer": "ipython3",
   "version": "3.7.12"
  },
  "papermill": {
   "default_parameters": {},
   "duration": 158.959241,
   "end_time": "2022-04-11T11:28:52.330798",
   "environment_variables": {},
   "exception": null,
   "input_path": "__notebook__.ipynb",
   "output_path": "__notebook__.ipynb",
   "parameters": {},
   "start_time": "2022-04-11T11:26:13.371557",
   "version": "2.3.3"
  }
 },
 "nbformat": 4,
 "nbformat_minor": 5
}
